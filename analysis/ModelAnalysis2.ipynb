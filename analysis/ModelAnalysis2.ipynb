{
 "cells": [
  {
   "cell_type": "markdown",
   "metadata": {},
   "source": [
    "# Machine learning model LaQuiniela\n",
    "\n",
    "In this notebook we are going to develop a machine learning model to predict the matches results of LaLiga: (1) home, (2) visitor, (X) tie."
   ]
  },
  {
   "cell_type": "markdown",
   "metadata": {},
   "source": [
    "First of all, we import all the libraries we are going to use. \n",
    "The library `sqlite3` is for reading the files `.sqlite`, in particular, `laliga.sqlite`, with the information of the matches, and `classification.sqlite`, where we have store the data from exercise 10.\n",
    "\n",
    "The library `sklearn` is for the machine learning model. The variable which will be predicted is discrete, so we have to develop a clasification model. To do that we have selected the `RandomForestClassifier`. The other functions of this library will help us to mesure the fitness of our model.\n",
    "\n",
    "We have also add a new variable, `DATABASE_PATH_1`, to the file `settings.py`, to get the dataframe from exercise 10 with the clssification of each team."
   ]
  },
  {
   "cell_type": "code",
   "execution_count": 1,
   "metadata": {},
   "outputs": [],
   "source": [
    "import pandas as pd\n",
    "import numpy as np\n",
    "import matplotlib.pyplot as plt\n",
    "import seaborn as sns\n",
    "import sqlite3\n",
    "import sys\n",
    "sys.path.append('/home/la-quiniela-main/') # modify this if neccesary\n",
    "import settings\n",
    "import argparse\n",
    "from settings import DATABASE_PATH, DATABASE_PATH_1\n",
    "from sklearn.ensemble import RandomForestClassifier\n",
    "from sklearn.model_selection import GridSearchCV\n",
    "from sklearn.metrics import accuracy_score, classification_report, confusion_matrix\n",
    "from sklearn.preprocessing import LabelEncoder"
   ]
  },
  {
   "cell_type": "markdown",
   "metadata": {},
   "source": [
    "Secondly, we have define every function to clean and merge our two dataframes, matches (laliga) and classification, to get the training data and the test data for our model. \n",
    "\n",
    "The first four functions are from the file `io.py` to load the dataframes."
   ]
  },
  {
   "cell_type": "code",
   "execution_count": 2,
   "metadata": {},
   "outputs": [],
   "source": [
    "def load_matchday_laliga(season, division, matchday):\n",
    "    with sqlite3.connect(DATABASE_PATH) as conn:\n",
    "        data = pd.read_sql(f\"\"\"\n",
    "            SELECT * FROM Matches\n",
    "                WHERE season = '{season}'\n",
    "                  AND division = {division}\n",
    "                  AND matchday = {matchday}\n",
    "        \"\"\", conn)\n",
    "    if data.empty:\n",
    "        raise ValueError(\"There is no matchday data for the values given\")\n",
    "    return data\n",
    "\n",
    "def load_matchday_classification(season, division, matchday):\n",
    "    with sqlite3.connect(DATABASE_PATH_1) as conn:\n",
    "        data = pd.read_sql(f\"\"\"\n",
    "            SELECT * FROM classification\n",
    "                WHERE season = '{season}'\n",
    "                  AND division = {division}\n",
    "                  AND matchday = {matchday}\n",
    "        \"\"\", conn)\n",
    "    if data.empty:\n",
    "        raise ValueError(\"There is no matchday data for the values given\")\n",
    "    return data\n",
    "\n",
    "def load_historical_data_laliga(seasons):\n",
    "    with sqlite3.connect(DATABASE_PATH) as conn:\n",
    "        if seasons == \"all\":\n",
    "            data = pd.read_sql(\"SELECT * FROM Matches\", conn)\n",
    "        else:\n",
    "            data = pd.read_sql(f\"\"\"\n",
    "                SELECT * FROM Matches\n",
    "                    WHERE season IN {tuple(seasons)}\n",
    "            \"\"\", conn)\n",
    "    if data.empty:\n",
    "        raise ValueError(f\"No data for seasons {seasons}\")\n",
    "    return data\n",
    "\n",
    "def load_historical_data_classification(seasons):\n",
    "    with sqlite3.connect(DATABASE_PATH_1) as conn:\n",
    "        if seasons == \"all\":\n",
    "            data = pd.read_sql(\"SELECT * FROM classification\", conn)\n",
    "        else:\n",
    "            data = pd.read_sql(f\"\"\"\n",
    "                SELECT * FROM classification\n",
    "                    WHERE season IN {tuple(seasons)}\n",
    "            \"\"\", conn)\n",
    "    if data.empty:\n",
    "        raise ValueError(f\"No data for seasons {seasons}\")\n",
    "    return data\n"
   ]
  },
  {
   "cell_type": "markdown",
   "metadata": {},
   "source": [
    "The next function converts the value of the seasons to train, given in the terminal, in a list."
   ]
  },
  {
   "cell_type": "code",
   "execution_count": 3,
   "metadata": {},
   "outputs": [],
   "source": [
    "def parse_seasons(value):\n",
    "    if value == \"all\":\n",
    "        return \"all\"\n",
    "    seasons = []\n",
    "    for chunk in value.split(\",\"):\n",
    "        if \":\" in chunk:\n",
    "            try:\n",
    "                start, end = map(int, chunk.split(\":\"))\n",
    "                assert start < end\n",
    "            except Exception:\n",
    "                raise argparse.ArgumentTypeError(f\"Unexpected format for seasons {value}\")\n",
    "            for i in range(start, end):\n",
    "                seasons.append(f\"{i}-{i+1}\")\n",
    "        else:\n",
    "            try:\n",
    "                start, end = map(int, chunk.split(\"-\"))\n",
    "                assert start == end - 1\n",
    "            except Exception:\n",
    "                raise argparse.ArgumentTypeError(f\"Unexpected format for seasons {value}\")\n",
    "            seasons.append(chunk)\n",
    "    return seasons"
   ]
  },
  {
   "cell_type": "markdown",
   "metadata": {},
   "source": [
    "Te next one is to save the predictions of our model in the table `Predictions` inside the file `laliga.sqlite`, which is originally empty."
   ]
  },
  {
   "cell_type": "code",
   "execution_count": 4,
   "metadata": {},
   "outputs": [],
   "source": [
    "def save_predictions(predictions):\n",
    "    predictions = predictions[[\"season\", \"division\", \"matchday\", \n",
    "                               \"date\", \"time\", \"home_team\", \n",
    "                               \"away_team\", \"score\", \"pred\"]]\n",
    "    with sqlite3.connect(DATABASE_PATH) as conn:\n",
    "        predictions.to_sql(name=\"Predictions\", con=conn, if_exists=\"append\", index=False)"
   ]
  },
  {
   "cell_type": "markdown",
   "metadata": {},
   "source": [
    "The function `add_result` adds a new column to the matches dataframe. This is going to be our target column, the one we want to predict."
   ]
  },
  {
   "cell_type": "code",
   "execution_count": 5,
   "metadata": {},
   "outputs": [],
   "source": [
    "def add_result(df):\n",
    "    df2 = df.copy()\n",
    "    df2[\"result\"] = None\n",
    "    df2.loc[(df2[\"score\"].str.split(\":\").str[0]) > (df2[\"score\"].str.split(\":\").str[1]), \"result\"] = '1'\n",
    "    df2.loc[(df2[\"score\"].str.split(\":\").str[0]) == (df2[\"score\"].str.split(\":\").str[1]), \"result\"] = 'X'\n",
    "    df2.loc[(df2[\"score\"].str.split(\":\").str[0]) < (df2[\"score\"].str.split(\":\").str[1]), \"result\"] = '2'\n",
    "    \n",
    "    df2.dropna(subset=\"score\", inplace=True)\n",
    "    return df2"
   ]
  },
  {
   "cell_type": "markdown",
   "metadata": {},
   "source": [
    "The next two functions merge two dataframes. We are going to used them as follows: first we merge the dataframes matches and classification in a way that we obtain another dataframe, df, with the data of every match and the classification data of the home_team. Then we used the second function, to merge df with the classsification dataframe to obtain a final dataframe with the data of every match and the classification data of both teams, home_team and away_team."
   ]
  },
  {
   "cell_type": "code",
   "execution_count": 6,
   "metadata": {},
   "outputs": [],
   "source": [
    "def merge_and_clean_home(df_games, df_teams):\n",
    "    df = pd.merge(df_games.copy(), df_teams.copy(), \n",
    "                             left_on=['home_team', \"season\", \"division\", \"matchday\"],\n",
    "                             right_on=['team', \"season\", \"division\", \"matchday\"])\n",
    "    df.drop(\"team\", axis=1, inplace=True)\n",
    "\n",
    "    return df"
   ]
  },
  {
   "cell_type": "code",
   "execution_count": 7,
   "metadata": {},
   "outputs": [],
   "source": [
    "def merge_and_clean_visitor(df, df_teams):\n",
    "    df2 = pd.merge(df.copy(), df_teams.copy(), \n",
    "                             left_on=['away_team', \"season\", \"division\", \"matchday\"],\n",
    "                             right_on=['team', \"season\", \"division\", \"matchday\"],\n",
    "                             suffixes=(\"_home\", \"_away\"))\n",
    "    df2.drop(\"team\", axis=1, inplace=True)\n",
    "\n",
    "    return df2"
   ]
  },
  {
   "cell_type": "markdown",
   "metadata": {},
   "source": [
    "Finally, the last two functions create the dataframes we need to train and test our model."
   ]
  },
  {
   "cell_type": "code",
   "execution_count": 8,
   "metadata": {},
   "outputs": [],
   "source": [
    "def df_train(seasons):   \n",
    "    classification = load_historical_data_classification(seasons)\n",
    "    matches = load_historical_data_laliga(seasons)\n",
    "    classification.dropna(subset=\"rank\", inplace=True)\n",
    "    matches = add_result(matches)\n",
    "    \n",
    "    df_train = merge_and_clean_home(matches, classification)\n",
    "    df_train = merge_and_clean_visitor(df_train, classification)\n",
    "    return df_train"
   ]
  },
  {
   "cell_type": "code",
   "execution_count": 9,
   "metadata": {},
   "outputs": [],
   "source": [
    "def df_test(season, division, matchday):\n",
    "    classification = load_matchday_classification(season, division, matchday)\n",
    "    matches =load_matchday_laliga(season, division, matchday)\n",
    "    classification.dropna(subset=\"rank\", inplace=True)\n",
    "    matches = add_result(matches)\n",
    "    \n",
    "    df_test = merge_and_clean_home(matches,classification)\n",
    "    df_test = merge_and_clean_visitor(df_test, classification)\n",
    "    return df_test"
   ]
  },
  {
   "cell_type": "markdown",
   "metadata": {},
   "source": [
    "# Random Forest Classifier"
   ]
  },
  {
   "cell_type": "markdown",
   "metadata": {},
   "source": [
    "We have used a Random Forest Classifier model to this problem because it is a classification problem."
   ]
  },
  {
   "cell_type": "markdown",
   "metadata": {},
   "source": [
    "The variables of the cell below contains the arguments which are going to be given in the terminal by the user."
   ]
  },
  {
   "cell_type": "code",
   "execution_count": 10,
   "metadata": {},
   "outputs": [],
   "source": [
    "seasons = \"2000:2010\"\n",
    "season = \"2021-2022\"\n",
    "division = 1\n",
    "matchday = 3 "
   ]
  },
  {
   "cell_type": "markdown",
   "metadata": {},
   "source": [
    "We have decided to used the following features to our model."
   ]
  },
  {
   "cell_type": "code",
   "execution_count": 11,
   "metadata": {},
   "outputs": [],
   "source": [
    "features = ['rank_home', 'GD_home', \"W_home\", \n",
    "                \"Pts_home\", 'rank_away', 'GD_away', \n",
    "                \"W_away\", \"Pts_away\"]\n",
    "target = \"result\""
   ]
  },
  {
   "cell_type": "markdown",
   "metadata": {},
   "source": [
    "Now, we can used all the functions and variables defined before to train and predict our Random Forest model."
   ]
  },
  {
   "cell_type": "code",
   "execution_count": 12,
   "metadata": {},
   "outputs": [],
   "source": [
    "seasons = parse_seasons(seasons)\n",
    "training_data = df_train(seasons)"
   ]
  },
  {
   "cell_type": "code",
   "execution_count": 13,
   "metadata": {},
   "outputs": [
    {
     "data": {
      "text/html": [
       "<div>\n",
       "<style scoped>\n",
       "    .dataframe tbody tr th:only-of-type {\n",
       "        vertical-align: middle;\n",
       "    }\n",
       "\n",
       "    .dataframe tbody tr th {\n",
       "        vertical-align: top;\n",
       "    }\n",
       "\n",
       "    .dataframe thead th {\n",
       "        text-align: right;\n",
       "    }\n",
       "</style>\n",
       "<table border=\"1\" class=\"dataframe\">\n",
       "  <thead>\n",
       "    <tr style=\"text-align: right;\">\n",
       "      <th></th>\n",
       "      <th>season</th>\n",
       "      <th>division</th>\n",
       "      <th>matchday</th>\n",
       "      <th>date</th>\n",
       "      <th>time</th>\n",
       "      <th>home_team</th>\n",
       "      <th>away_team</th>\n",
       "      <th>score</th>\n",
       "      <th>result</th>\n",
       "      <th>rank_home</th>\n",
       "      <th>...</th>\n",
       "      <th>last_5_home</th>\n",
       "      <th>rank_away</th>\n",
       "      <th>GF_away</th>\n",
       "      <th>GA_away</th>\n",
       "      <th>GD_away</th>\n",
       "      <th>W_away</th>\n",
       "      <th>L_away</th>\n",
       "      <th>T_away</th>\n",
       "      <th>Pts_away</th>\n",
       "      <th>last_5_away</th>\n",
       "    </tr>\n",
       "  </thead>\n",
       "  <tbody>\n",
       "    <tr>\n",
       "      <th>0</th>\n",
       "      <td>2000-2001</td>\n",
       "      <td>1</td>\n",
       "      <td>1</td>\n",
       "      <td>9/9/00</td>\n",
       "      <td>8:15 PM</td>\n",
       "      <td>Real Sociedad</td>\n",
       "      <td>Racing</td>\n",
       "      <td>2:2</td>\n",
       "      <td>X</td>\n",
       "      <td>10.0</td>\n",
       "      <td>...</td>\n",
       "      <td></td>\n",
       "      <td>9.0</td>\n",
       "      <td>2.0</td>\n",
       "      <td>2.0</td>\n",
       "      <td>0.0</td>\n",
       "      <td>0.0</td>\n",
       "      <td>0.0</td>\n",
       "      <td>1.0</td>\n",
       "      <td>1.0</td>\n",
       "      <td></td>\n",
       "    </tr>\n",
       "    <tr>\n",
       "      <th>1</th>\n",
       "      <td>2000-2001</td>\n",
       "      <td>1</td>\n",
       "      <td>1</td>\n",
       "      <td>9/9/00</td>\n",
       "      <td>9:00 PM</td>\n",
       "      <td>Real Zaragoza</td>\n",
       "      <td>Espanyol</td>\n",
       "      <td>1:2</td>\n",
       "      <td>2</td>\n",
       "      <td>14.0</td>\n",
       "      <td>...</td>\n",
       "      <td></td>\n",
       "      <td>6.0</td>\n",
       "      <td>2.0</td>\n",
       "      <td>1.0</td>\n",
       "      <td>1.0</td>\n",
       "      <td>1.0</td>\n",
       "      <td>0.0</td>\n",
       "      <td>0.0</td>\n",
       "      <td>3.0</td>\n",
       "      <td></td>\n",
       "    </tr>\n",
       "    <tr>\n",
       "      <th>2</th>\n",
       "      <td>2000-2001</td>\n",
       "      <td>1</td>\n",
       "      <td>1</td>\n",
       "      <td>9/9/00</td>\n",
       "      <td>9:00 PM</td>\n",
       "      <td>Barcelona</td>\n",
       "      <td>Málaga CF</td>\n",
       "      <td>2:1</td>\n",
       "      <td>1</td>\n",
       "      <td>5.0</td>\n",
       "      <td>...</td>\n",
       "      <td></td>\n",
       "      <td>13.0</td>\n",
       "      <td>1.0</td>\n",
       "      <td>2.0</td>\n",
       "      <td>-1.0</td>\n",
       "      <td>0.0</td>\n",
       "      <td>1.0</td>\n",
       "      <td>0.0</td>\n",
       "      <td>0.0</td>\n",
       "      <td></td>\n",
       "    </tr>\n",
       "    <tr>\n",
       "      <th>3</th>\n",
       "      <td>2000-2001</td>\n",
       "      <td>1</td>\n",
       "      <td>1</td>\n",
       "      <td>9/9/00</td>\n",
       "      <td>9:00 PM</td>\n",
       "      <td>Dep. La Coruña</td>\n",
       "      <td>Athletic</td>\n",
       "      <td>2:0</td>\n",
       "      <td>1</td>\n",
       "      <td>4.0</td>\n",
       "      <td>...</td>\n",
       "      <td></td>\n",
       "      <td>17.0</td>\n",
       "      <td>0.0</td>\n",
       "      <td>2.0</td>\n",
       "      <td>-2.0</td>\n",
       "      <td>0.0</td>\n",
       "      <td>1.0</td>\n",
       "      <td>0.0</td>\n",
       "      <td>0.0</td>\n",
       "      <td></td>\n",
       "    </tr>\n",
       "    <tr>\n",
       "      <th>4</th>\n",
       "      <td>2000-2001</td>\n",
       "      <td>1</td>\n",
       "      <td>1</td>\n",
       "      <td>9/9/00</td>\n",
       "      <td>9:00 PM</td>\n",
       "      <td>Real Madrid</td>\n",
       "      <td>Valencia</td>\n",
       "      <td>2:1</td>\n",
       "      <td>1</td>\n",
       "      <td>7.0</td>\n",
       "      <td>...</td>\n",
       "      <td></td>\n",
       "      <td>15.0</td>\n",
       "      <td>1.0</td>\n",
       "      <td>2.0</td>\n",
       "      <td>-1.0</td>\n",
       "      <td>0.0</td>\n",
       "      <td>1.0</td>\n",
       "      <td>0.0</td>\n",
       "      <td>0.0</td>\n",
       "      <td></td>\n",
       "    </tr>\n",
       "    <tr>\n",
       "      <th>...</th>\n",
       "      <td>...</td>\n",
       "      <td>...</td>\n",
       "      <td>...</td>\n",
       "      <td>...</td>\n",
       "      <td>...</td>\n",
       "      <td>...</td>\n",
       "      <td>...</td>\n",
       "      <td>...</td>\n",
       "      <td>...</td>\n",
       "      <td>...</td>\n",
       "      <td>...</td>\n",
       "      <td>...</td>\n",
       "      <td>...</td>\n",
       "      <td>...</td>\n",
       "      <td>...</td>\n",
       "      <td>...</td>\n",
       "      <td>...</td>\n",
       "      <td>...</td>\n",
       "      <td>...</td>\n",
       "      <td>...</td>\n",
       "      <td>...</td>\n",
       "    </tr>\n",
       "    <tr>\n",
       "      <th>8415</th>\n",
       "      <td>2009-2010</td>\n",
       "      <td>2</td>\n",
       "      <td>42</td>\n",
       "      <td>6/19/10</td>\n",
       "      <td>6:00 PM</td>\n",
       "      <td>Cádiz CF</td>\n",
       "      <td>CD Numancia</td>\n",
       "      <td>4:2</td>\n",
       "      <td>1</td>\n",
       "      <td>20.0</td>\n",
       "      <td>...</td>\n",
       "      <td>L,L,W,W,T</td>\n",
       "      <td>8.0</td>\n",
       "      <td>55.0</td>\n",
       "      <td>53.0</td>\n",
       "      <td>2.0</td>\n",
       "      <td>16.0</td>\n",
       "      <td>15.0</td>\n",
       "      <td>11.0</td>\n",
       "      <td>59.0</td>\n",
       "      <td>W,L,W,L,T</td>\n",
       "    </tr>\n",
       "    <tr>\n",
       "      <th>8416</th>\n",
       "      <td>2009-2010</td>\n",
       "      <td>2</td>\n",
       "      <td>42</td>\n",
       "      <td>6/19/10</td>\n",
       "      <td>6:00 PM</td>\n",
       "      <td>Celta de Vigo</td>\n",
       "      <td>SD Huesca</td>\n",
       "      <td>0:1</td>\n",
       "      <td>2</td>\n",
       "      <td>14.0</td>\n",
       "      <td>...</td>\n",
       "      <td>L,W,L,W,L</td>\n",
       "      <td>13.0</td>\n",
       "      <td>36.0</td>\n",
       "      <td>40.0</td>\n",
       "      <td>-4.0</td>\n",
       "      <td>12.0</td>\n",
       "      <td>14.0</td>\n",
       "      <td>16.0</td>\n",
       "      <td>52.0</td>\n",
       "      <td>W,T,L,W,L</td>\n",
       "    </tr>\n",
       "    <tr>\n",
       "      <th>8417</th>\n",
       "      <td>2009-2010</td>\n",
       "      <td>2</td>\n",
       "      <td>42</td>\n",
       "      <td>6/19/10</td>\n",
       "      <td>6:00 PM</td>\n",
       "      <td>Elche CF</td>\n",
       "      <td>Real Sociedad</td>\n",
       "      <td>4:1</td>\n",
       "      <td>1</td>\n",
       "      <td>6.0</td>\n",
       "      <td>...</td>\n",
       "      <td>L,L,L,W,W</td>\n",
       "      <td>1.0</td>\n",
       "      <td>53.0</td>\n",
       "      <td>37.0</td>\n",
       "      <td>16.0</td>\n",
       "      <td>20.0</td>\n",
       "      <td>8.0</td>\n",
       "      <td>14.0</td>\n",
       "      <td>74.0</td>\n",
       "      <td>W,W,W,L,T</td>\n",
       "    </tr>\n",
       "    <tr>\n",
       "      <th>8418</th>\n",
       "      <td>2009-2010</td>\n",
       "      <td>2</td>\n",
       "      <td>42</td>\n",
       "      <td>6/19/10</td>\n",
       "      <td>6:00 PM</td>\n",
       "      <td>UD Las Palmas</td>\n",
       "      <td>Gimnàstic</td>\n",
       "      <td>1:0</td>\n",
       "      <td>1</td>\n",
       "      <td>17.0</td>\n",
       "      <td>...</td>\n",
       "      <td>L,L,W,L,T</td>\n",
       "      <td>18.0</td>\n",
       "      <td>42.0</td>\n",
       "      <td>55.0</td>\n",
       "      <td>-13.0</td>\n",
       "      <td>14.0</td>\n",
       "      <td>19.0</td>\n",
       "      <td>9.0</td>\n",
       "      <td>51.0</td>\n",
       "      <td>W,L,L,L,L</td>\n",
       "    </tr>\n",
       "    <tr>\n",
       "      <th>8419</th>\n",
       "      <td>2009-2010</td>\n",
       "      <td>2</td>\n",
       "      <td>42</td>\n",
       "      <td>6/19/10</td>\n",
       "      <td>6:00 PM</td>\n",
       "      <td>Girona</td>\n",
       "      <td>Real Murcia</td>\n",
       "      <td>1:1</td>\n",
       "      <td>X</td>\n",
       "      <td>16.0</td>\n",
       "      <td>...</td>\n",
       "      <td>L,W,T,L,T</td>\n",
       "      <td>19.0</td>\n",
       "      <td>49.0</td>\n",
       "      <td>51.0</td>\n",
       "      <td>-2.0</td>\n",
       "      <td>11.0</td>\n",
       "      <td>14.0</td>\n",
       "      <td>17.0</td>\n",
       "      <td>50.0</td>\n",
       "      <td>W,W,W,L,T</td>\n",
       "    </tr>\n",
       "  </tbody>\n",
       "</table>\n",
       "<p>8420 rows × 27 columns</p>\n",
       "</div>"
      ],
      "text/plain": [
       "         season  division  matchday     date     time       home_team  \\\n",
       "0     2000-2001         1         1   9/9/00  8:15 PM   Real Sociedad   \n",
       "1     2000-2001         1         1   9/9/00  9:00 PM   Real Zaragoza   \n",
       "2     2000-2001         1         1   9/9/00  9:00 PM       Barcelona   \n",
       "3     2000-2001         1         1   9/9/00  9:00 PM  Dep. La Coruña   \n",
       "4     2000-2001         1         1   9/9/00  9:00 PM     Real Madrid   \n",
       "...         ...       ...       ...      ...      ...             ...   \n",
       "8415  2009-2010         2        42  6/19/10  6:00 PM        Cádiz CF   \n",
       "8416  2009-2010         2        42  6/19/10  6:00 PM   Celta de Vigo   \n",
       "8417  2009-2010         2        42  6/19/10  6:00 PM        Elche CF   \n",
       "8418  2009-2010         2        42  6/19/10  6:00 PM   UD Las Palmas   \n",
       "8419  2009-2010         2        42  6/19/10  6:00 PM          Girona   \n",
       "\n",
       "          away_team score result  rank_home  ...  last_5_home  rank_away  \\\n",
       "0            Racing   2:2      X       10.0  ...                     9.0   \n",
       "1          Espanyol   1:2      2       14.0  ...                     6.0   \n",
       "2         Málaga CF   2:1      1        5.0  ...                    13.0   \n",
       "3          Athletic   2:0      1        4.0  ...                    17.0   \n",
       "4          Valencia   2:1      1        7.0  ...                    15.0   \n",
       "...             ...   ...    ...        ...  ...          ...        ...   \n",
       "8415    CD Numancia   4:2      1       20.0  ...    L,L,W,W,T        8.0   \n",
       "8416      SD Huesca   0:1      2       14.0  ...    L,W,L,W,L       13.0   \n",
       "8417  Real Sociedad   4:1      1        6.0  ...    L,L,L,W,W        1.0   \n",
       "8418      Gimnàstic   1:0      1       17.0  ...    L,L,W,L,T       18.0   \n",
       "8419    Real Murcia   1:1      X       16.0  ...    L,W,T,L,T       19.0   \n",
       "\n",
       "      GF_away  GA_away  GD_away  W_away  L_away T_away  Pts_away  last_5_away  \n",
       "0         2.0      2.0      0.0     0.0     0.0    1.0       1.0               \n",
       "1         2.0      1.0      1.0     1.0     0.0    0.0       3.0               \n",
       "2         1.0      2.0     -1.0     0.0     1.0    0.0       0.0               \n",
       "3         0.0      2.0     -2.0     0.0     1.0    0.0       0.0               \n",
       "4         1.0      2.0     -1.0     0.0     1.0    0.0       0.0               \n",
       "...       ...      ...      ...     ...     ...    ...       ...          ...  \n",
       "8415     55.0     53.0      2.0    16.0    15.0   11.0      59.0    W,L,W,L,T  \n",
       "8416     36.0     40.0     -4.0    12.0    14.0   16.0      52.0    W,T,L,W,L  \n",
       "8417     53.0     37.0     16.0    20.0     8.0   14.0      74.0    W,W,W,L,T  \n",
       "8418     42.0     55.0    -13.0    14.0    19.0    9.0      51.0    W,L,L,L,L  \n",
       "8419     49.0     51.0     -2.0    11.0    14.0   17.0      50.0    W,W,W,L,T  \n",
       "\n",
       "[8420 rows x 27 columns]"
      ]
     },
     "execution_count": 13,
     "metadata": {},
     "output_type": "execute_result"
    }
   ],
   "source": [
    "training_data"
   ]
  },
  {
   "cell_type": "code",
   "execution_count": 14,
   "metadata": {},
   "outputs": [],
   "source": [
    "X_train = training_data[features]  \n",
    "y_train = training_data[target]  "
   ]
  },
  {
   "cell_type": "markdown",
   "metadata": {},
   "source": [
    "We have used the function `GridSearchCV` to find the best estimator to the Random Forest Classifier in each execution. Because of that, the accuracy is going to be higher but the training is going to take more time than if we have set the parameters directly . However, it does not take too much time. To train 10 seasons it takes around two minutes, and to train all the seasons it takes around 8 minutes. "
   ]
  },
  {
   "cell_type": "code",
   "execution_count": 15,
   "metadata": {},
   "outputs": [
    {
     "data": {
      "text/html": [
       "<style>#sk-container-id-1 {color: black;}#sk-container-id-1 pre{padding: 0;}#sk-container-id-1 div.sk-toggleable {background-color: white;}#sk-container-id-1 label.sk-toggleable__label {cursor: pointer;display: block;width: 100%;margin-bottom: 0;padding: 0.3em;box-sizing: border-box;text-align: center;}#sk-container-id-1 label.sk-toggleable__label-arrow:before {content: \"▸\";float: left;margin-right: 0.25em;color: #696969;}#sk-container-id-1 label.sk-toggleable__label-arrow:hover:before {color: black;}#sk-container-id-1 div.sk-estimator:hover label.sk-toggleable__label-arrow:before {color: black;}#sk-container-id-1 div.sk-toggleable__content {max-height: 0;max-width: 0;overflow: hidden;text-align: left;background-color: #f0f8ff;}#sk-container-id-1 div.sk-toggleable__content pre {margin: 0.2em;color: black;border-radius: 0.25em;background-color: #f0f8ff;}#sk-container-id-1 input.sk-toggleable__control:checked~div.sk-toggleable__content {max-height: 200px;max-width: 100%;overflow: auto;}#sk-container-id-1 input.sk-toggleable__control:checked~label.sk-toggleable__label-arrow:before {content: \"▾\";}#sk-container-id-1 div.sk-estimator input.sk-toggleable__control:checked~label.sk-toggleable__label {background-color: #d4ebff;}#sk-container-id-1 div.sk-label input.sk-toggleable__control:checked~label.sk-toggleable__label {background-color: #d4ebff;}#sk-container-id-1 input.sk-hidden--visually {border: 0;clip: rect(1px 1px 1px 1px);clip: rect(1px, 1px, 1px, 1px);height: 1px;margin: -1px;overflow: hidden;padding: 0;position: absolute;width: 1px;}#sk-container-id-1 div.sk-estimator {font-family: monospace;background-color: #f0f8ff;border: 1px dotted black;border-radius: 0.25em;box-sizing: border-box;margin-bottom: 0.5em;}#sk-container-id-1 div.sk-estimator:hover {background-color: #d4ebff;}#sk-container-id-1 div.sk-parallel-item::after {content: \"\";width: 100%;border-bottom: 1px solid gray;flex-grow: 1;}#sk-container-id-1 div.sk-label:hover label.sk-toggleable__label {background-color: #d4ebff;}#sk-container-id-1 div.sk-serial::before {content: \"\";position: absolute;border-left: 1px solid gray;box-sizing: border-box;top: 0;bottom: 0;left: 50%;z-index: 0;}#sk-container-id-1 div.sk-serial {display: flex;flex-direction: column;align-items: center;background-color: white;padding-right: 0.2em;padding-left: 0.2em;position: relative;}#sk-container-id-1 div.sk-item {position: relative;z-index: 1;}#sk-container-id-1 div.sk-parallel {display: flex;align-items: stretch;justify-content: center;background-color: white;position: relative;}#sk-container-id-1 div.sk-item::before, #sk-container-id-1 div.sk-parallel-item::before {content: \"\";position: absolute;border-left: 1px solid gray;box-sizing: border-box;top: 0;bottom: 0;left: 50%;z-index: -1;}#sk-container-id-1 div.sk-parallel-item {display: flex;flex-direction: column;z-index: 1;position: relative;background-color: white;}#sk-container-id-1 div.sk-parallel-item:first-child::after {align-self: flex-end;width: 50%;}#sk-container-id-1 div.sk-parallel-item:last-child::after {align-self: flex-start;width: 50%;}#sk-container-id-1 div.sk-parallel-item:only-child::after {width: 0;}#sk-container-id-1 div.sk-dashed-wrapped {border: 1px dashed gray;margin: 0 0.4em 0.5em 0.4em;box-sizing: border-box;padding-bottom: 0.4em;background-color: white;}#sk-container-id-1 div.sk-label label {font-family: monospace;font-weight: bold;display: inline-block;line-height: 1.2em;}#sk-container-id-1 div.sk-label-container {text-align: center;}#sk-container-id-1 div.sk-container {/* jupyter's `normalize.less` sets `[hidden] { display: none; }` but bootstrap.min.css set `[hidden] { display: none !important; }` so we also need the `!important` here to be able to override the default hidden behavior on the sphinx rendered scikit-learn.org. See: https://github.com/scikit-learn/scikit-learn/issues/21755 */display: inline-block !important;position: relative;}#sk-container-id-1 div.sk-text-repr-fallback {display: none;}</style><div id=\"sk-container-id-1\" class=\"sk-top-container\"><div class=\"sk-text-repr-fallback\"><pre>RandomForestClassifier(max_depth=10, min_samples_leaf=2, min_samples_split=5,\n",
       "                       n_estimators=150)</pre><b>In a Jupyter environment, please rerun this cell to show the HTML representation or trust the notebook. <br />On GitHub, the HTML representation is unable to render, please try loading this page with nbviewer.org.</b></div><div class=\"sk-container\" hidden><div class=\"sk-item\"><div class=\"sk-estimator sk-toggleable\"><input class=\"sk-toggleable__control sk-hidden--visually\" id=\"sk-estimator-id-1\" type=\"checkbox\" checked><label for=\"sk-estimator-id-1\" class=\"sk-toggleable__label sk-toggleable__label-arrow\">RandomForestClassifier</label><div class=\"sk-toggleable__content\"><pre>RandomForestClassifier(max_depth=10, min_samples_leaf=2, min_samples_split=5,\n",
       "                       n_estimators=150)</pre></div></div></div></div></div>"
      ],
      "text/plain": [
       "RandomForestClassifier(max_depth=10, min_samples_leaf=2, min_samples_split=5,\n",
       "                       n_estimators=150)"
      ]
     },
     "execution_count": 15,
     "metadata": {},
     "output_type": "execute_result"
    }
   ],
   "source": [
    "rf_classifier = RandomForestClassifier()\n",
    "    \n",
    "param_grid = {\n",
    "    'n_estimators': [50, 100, 150],\n",
    "    'max_depth': [10, 15, 20],\n",
    "    'min_samples_split': [2, 5],\n",
    "    'min_samples_leaf': [1, 2]\n",
    "}\n",
    "\n",
    "grid_search = GridSearchCV(estimator=rf_classifier, param_grid=param_grid, cv=5, scoring='accuracy')\n",
    "grid_search.fit(X_train, y_train)\n",
    "\n",
    "rf_model = grid_search.best_estimator_\n",
    "\n",
    "rf_model.fit(X_train, y_train)"
   ]
  },
  {
   "cell_type": "code",
   "execution_count": 16,
   "metadata": {},
   "outputs": [
    {
     "data": {
      "text/html": [
       "<div>\n",
       "<style scoped>\n",
       "    .dataframe tbody tr th:only-of-type {\n",
       "        vertical-align: middle;\n",
       "    }\n",
       "\n",
       "    .dataframe tbody tr th {\n",
       "        vertical-align: top;\n",
       "    }\n",
       "\n",
       "    .dataframe thead th {\n",
       "        text-align: right;\n",
       "    }\n",
       "</style>\n",
       "<table border=\"1\" class=\"dataframe\">\n",
       "  <thead>\n",
       "    <tr style=\"text-align: right;\">\n",
       "      <th></th>\n",
       "      <th>season</th>\n",
       "      <th>division</th>\n",
       "      <th>matchday</th>\n",
       "      <th>date</th>\n",
       "      <th>time</th>\n",
       "      <th>home_team</th>\n",
       "      <th>away_team</th>\n",
       "      <th>score</th>\n",
       "      <th>result</th>\n",
       "      <th>rank_home</th>\n",
       "      <th>...</th>\n",
       "      <th>last_5_home</th>\n",
       "      <th>rank_away</th>\n",
       "      <th>GF_away</th>\n",
       "      <th>GA_away</th>\n",
       "      <th>GD_away</th>\n",
       "      <th>W_away</th>\n",
       "      <th>L_away</th>\n",
       "      <th>T_away</th>\n",
       "      <th>Pts_away</th>\n",
       "      <th>last_5_away</th>\n",
       "    </tr>\n",
       "  </thead>\n",
       "  <tbody>\n",
       "    <tr>\n",
       "      <th>0</th>\n",
       "      <td>2021-2022</td>\n",
       "      <td>1</td>\n",
       "      <td>3</td>\n",
       "      <td>8/27/21</td>\n",
       "      <td>8:00 PM</td>\n",
       "      <td>RCD Mallorca</td>\n",
       "      <td>Espanyol</td>\n",
       "      <td>1:0</td>\n",
       "      <td>1</td>\n",
       "      <td>6.0</td>\n",
       "      <td>...</td>\n",
       "      <td>W</td>\n",
       "      <td>16.0</td>\n",
       "      <td>0.0</td>\n",
       "      <td>1.0</td>\n",
       "      <td>-1.0</td>\n",
       "      <td>0.0</td>\n",
       "      <td>1.0</td>\n",
       "      <td>2.0</td>\n",
       "      <td>2.0</td>\n",
       "      <td>T</td>\n",
       "    </tr>\n",
       "    <tr>\n",
       "      <th>1</th>\n",
       "      <td>2021-2022</td>\n",
       "      <td>1</td>\n",
       "      <td>3</td>\n",
       "      <td>8/27/21</td>\n",
       "      <td>10:15 PM</td>\n",
       "      <td>Valencia</td>\n",
       "      <td>Alavés</td>\n",
       "      <td>3:0</td>\n",
       "      <td>1</td>\n",
       "      <td>3.0</td>\n",
       "      <td>...</td>\n",
       "      <td>T</td>\n",
       "      <td>20.0</td>\n",
       "      <td>1.0</td>\n",
       "      <td>8.0</td>\n",
       "      <td>-7.0</td>\n",
       "      <td>0.0</td>\n",
       "      <td>3.0</td>\n",
       "      <td>0.0</td>\n",
       "      <td>0.0</td>\n",
       "      <td>L</td>\n",
       "    </tr>\n",
       "    <tr>\n",
       "      <th>2</th>\n",
       "      <td>2021-2022</td>\n",
       "      <td>1</td>\n",
       "      <td>3</td>\n",
       "      <td>8/28/21</td>\n",
       "      <td>5:00 PM</td>\n",
       "      <td>Celta de Vigo</td>\n",
       "      <td>Athletic</td>\n",
       "      <td>0:1</td>\n",
       "      <td>2</td>\n",
       "      <td>18.0</td>\n",
       "      <td>...</td>\n",
       "      <td>T</td>\n",
       "      <td>9.0</td>\n",
       "      <td>2.0</td>\n",
       "      <td>1.0</td>\n",
       "      <td>1.0</td>\n",
       "      <td>1.0</td>\n",
       "      <td>0.0</td>\n",
       "      <td>2.0</td>\n",
       "      <td>5.0</td>\n",
       "      <td>T</td>\n",
       "    </tr>\n",
       "    <tr>\n",
       "      <th>3</th>\n",
       "      <td>2021-2022</td>\n",
       "      <td>1</td>\n",
       "      <td>3</td>\n",
       "      <td>8/28/21</td>\n",
       "      <td>7:30 PM</td>\n",
       "      <td>Real Sociedad</td>\n",
       "      <td>Levante</td>\n",
       "      <td>1:0</td>\n",
       "      <td>1</td>\n",
       "      <td>7.0</td>\n",
       "      <td>...</td>\n",
       "      <td>W</td>\n",
       "      <td>13.0</td>\n",
       "      <td>4.0</td>\n",
       "      <td>5.0</td>\n",
       "      <td>-1.0</td>\n",
       "      <td>0.0</td>\n",
       "      <td>1.0</td>\n",
       "      <td>2.0</td>\n",
       "      <td>2.0</td>\n",
       "      <td>T</td>\n",
       "    </tr>\n",
       "    <tr>\n",
       "      <th>4</th>\n",
       "      <td>2021-2022</td>\n",
       "      <td>1</td>\n",
       "      <td>3</td>\n",
       "      <td>8/28/21</td>\n",
       "      <td>7:30 PM</td>\n",
       "      <td>Elche CF</td>\n",
       "      <td>Sevilla FC</td>\n",
       "      <td>1:1</td>\n",
       "      <td>X</td>\n",
       "      <td>15.0</td>\n",
       "      <td>...</td>\n",
       "      <td>L</td>\n",
       "      <td>2.0</td>\n",
       "      <td>5.0</td>\n",
       "      <td>1.0</td>\n",
       "      <td>4.0</td>\n",
       "      <td>2.0</td>\n",
       "      <td>0.0</td>\n",
       "      <td>1.0</td>\n",
       "      <td>7.0</td>\n",
       "      <td>W</td>\n",
       "    </tr>\n",
       "    <tr>\n",
       "      <th>5</th>\n",
       "      <td>2021-2022</td>\n",
       "      <td>1</td>\n",
       "      <td>3</td>\n",
       "      <td>8/28/21</td>\n",
       "      <td>10:00 PM</td>\n",
       "      <td>Real Betis</td>\n",
       "      <td>Real Madrid</td>\n",
       "      <td>0:1</td>\n",
       "      <td>2</td>\n",
       "      <td>14.0</td>\n",
       "      <td>...</td>\n",
       "      <td>T</td>\n",
       "      <td>1.0</td>\n",
       "      <td>8.0</td>\n",
       "      <td>4.0</td>\n",
       "      <td>4.0</td>\n",
       "      <td>2.0</td>\n",
       "      <td>0.0</td>\n",
       "      <td>1.0</td>\n",
       "      <td>7.0</td>\n",
       "      <td>T</td>\n",
       "    </tr>\n",
       "    <tr>\n",
       "      <th>6</th>\n",
       "      <td>2021-2022</td>\n",
       "      <td>1</td>\n",
       "      <td>3</td>\n",
       "      <td>8/29/21</td>\n",
       "      <td>5:00 PM</td>\n",
       "      <td>Barcelona</td>\n",
       "      <td>Getafe</td>\n",
       "      <td>2:1</td>\n",
       "      <td>1</td>\n",
       "      <td>4.0</td>\n",
       "      <td>...</td>\n",
       "      <td>T</td>\n",
       "      <td>19.0</td>\n",
       "      <td>1.0</td>\n",
       "      <td>4.0</td>\n",
       "      <td>-3.0</td>\n",
       "      <td>0.0</td>\n",
       "      <td>3.0</td>\n",
       "      <td>0.0</td>\n",
       "      <td>0.0</td>\n",
       "      <td>L</td>\n",
       "    </tr>\n",
       "    <tr>\n",
       "      <th>7</th>\n",
       "      <td>2021-2022</td>\n",
       "      <td>1</td>\n",
       "      <td>3</td>\n",
       "      <td>8/29/21</td>\n",
       "      <td>7:30 PM</td>\n",
       "      <td>Cádiz CF</td>\n",
       "      <td>CA Osasuna</td>\n",
       "      <td>2:3</td>\n",
       "      <td>2</td>\n",
       "      <td>12.0</td>\n",
       "      <td>...</td>\n",
       "      <td>T</td>\n",
       "      <td>8.0</td>\n",
       "      <td>3.0</td>\n",
       "      <td>2.0</td>\n",
       "      <td>1.0</td>\n",
       "      <td>1.0</td>\n",
       "      <td>0.0</td>\n",
       "      <td>2.0</td>\n",
       "      <td>5.0</td>\n",
       "      <td>T</td>\n",
       "    </tr>\n",
       "    <tr>\n",
       "      <th>8</th>\n",
       "      <td>2021-2022</td>\n",
       "      <td>1</td>\n",
       "      <td>3</td>\n",
       "      <td>8/29/21</td>\n",
       "      <td>7:30 PM</td>\n",
       "      <td>Rayo Vallecano</td>\n",
       "      <td>Granada CF</td>\n",
       "      <td>4:0</td>\n",
       "      <td>1</td>\n",
       "      <td>10.0</td>\n",
       "      <td>...</td>\n",
       "      <td>L</td>\n",
       "      <td>17.0</td>\n",
       "      <td>1.0</td>\n",
       "      <td>5.0</td>\n",
       "      <td>-4.0</td>\n",
       "      <td>0.0</td>\n",
       "      <td>1.0</td>\n",
       "      <td>2.0</td>\n",
       "      <td>2.0</td>\n",
       "      <td>T</td>\n",
       "    </tr>\n",
       "    <tr>\n",
       "      <th>9</th>\n",
       "      <td>2021-2022</td>\n",
       "      <td>1</td>\n",
       "      <td>3</td>\n",
       "      <td>8/29/21</td>\n",
       "      <td>10:00 PM</td>\n",
       "      <td>Atlético Madrid</td>\n",
       "      <td>Villarreal</td>\n",
       "      <td>2:2</td>\n",
       "      <td>X</td>\n",
       "      <td>5.0</td>\n",
       "      <td>...</td>\n",
       "      <td>W</td>\n",
       "      <td>11.0</td>\n",
       "      <td>2.0</td>\n",
       "      <td>2.0</td>\n",
       "      <td>0.0</td>\n",
       "      <td>0.0</td>\n",
       "      <td>0.0</td>\n",
       "      <td>3.0</td>\n",
       "      <td>3.0</td>\n",
       "      <td>T</td>\n",
       "    </tr>\n",
       "  </tbody>\n",
       "</table>\n",
       "<p>10 rows × 27 columns</p>\n",
       "</div>"
      ],
      "text/plain": [
       "      season  division  matchday     date      time        home_team  \\\n",
       "0  2021-2022         1         3  8/27/21   8:00 PM     RCD Mallorca   \n",
       "1  2021-2022         1         3  8/27/21  10:15 PM         Valencia   \n",
       "2  2021-2022         1         3  8/28/21   5:00 PM    Celta de Vigo   \n",
       "3  2021-2022         1         3  8/28/21   7:30 PM    Real Sociedad   \n",
       "4  2021-2022         1         3  8/28/21   7:30 PM         Elche CF   \n",
       "5  2021-2022         1         3  8/28/21  10:00 PM       Real Betis   \n",
       "6  2021-2022         1         3  8/29/21   5:00 PM        Barcelona   \n",
       "7  2021-2022         1         3  8/29/21   7:30 PM         Cádiz CF   \n",
       "8  2021-2022         1         3  8/29/21   7:30 PM   Rayo Vallecano   \n",
       "9  2021-2022         1         3  8/29/21  10:00 PM  Atlético Madrid   \n",
       "\n",
       "     away_team score result  rank_home  ...  last_5_home  rank_away  GF_away  \\\n",
       "0     Espanyol   1:0      1        6.0  ...            W       16.0      0.0   \n",
       "1       Alavés   3:0      1        3.0  ...            T       20.0      1.0   \n",
       "2     Athletic   0:1      2       18.0  ...            T        9.0      2.0   \n",
       "3      Levante   1:0      1        7.0  ...            W       13.0      4.0   \n",
       "4   Sevilla FC   1:1      X       15.0  ...            L        2.0      5.0   \n",
       "5  Real Madrid   0:1      2       14.0  ...            T        1.0      8.0   \n",
       "6       Getafe   2:1      1        4.0  ...            T       19.0      1.0   \n",
       "7   CA Osasuna   2:3      2       12.0  ...            T        8.0      3.0   \n",
       "8   Granada CF   4:0      1       10.0  ...            L       17.0      1.0   \n",
       "9   Villarreal   2:2      X        5.0  ...            W       11.0      2.0   \n",
       "\n",
       "   GA_away  GD_away  W_away  L_away T_away  Pts_away  last_5_away  \n",
       "0      1.0     -1.0     0.0     1.0    2.0       2.0            T  \n",
       "1      8.0     -7.0     0.0     3.0    0.0       0.0            L  \n",
       "2      1.0      1.0     1.0     0.0    2.0       5.0            T  \n",
       "3      5.0     -1.0     0.0     1.0    2.0       2.0            T  \n",
       "4      1.0      4.0     2.0     0.0    1.0       7.0            W  \n",
       "5      4.0      4.0     2.0     0.0    1.0       7.0            T  \n",
       "6      4.0     -3.0     0.0     3.0    0.0       0.0            L  \n",
       "7      2.0      1.0     1.0     0.0    2.0       5.0            T  \n",
       "8      5.0     -4.0     0.0     1.0    2.0       2.0            T  \n",
       "9      2.0      0.0     0.0     0.0    3.0       3.0            T  \n",
       "\n",
       "[10 rows x 27 columns]"
      ]
     },
     "execution_count": 16,
     "metadata": {},
     "output_type": "execute_result"
    }
   ],
   "source": [
    "test_data = df_test(season, division, matchday)\n",
    "test_data"
   ]
  },
  {
   "cell_type": "code",
   "execution_count": 17,
   "metadata": {},
   "outputs": [],
   "source": [
    "X_test = test_data[features]\n",
    "y_test = test_data[target]"
   ]
  },
  {
   "cell_type": "code",
   "execution_count": 18,
   "metadata": {},
   "outputs": [
    {
     "data": {
      "text/plain": [
       "array(['1', '1', 'X', '1', 'X', '2', '1', 'X', '1', '1'], dtype=object)"
      ]
     },
     "execution_count": 18,
     "metadata": {},
     "output_type": "execute_result"
    }
   ],
   "source": [
    "y_pred = rf_model.predict(X_test)\n",
    "y_pred"
   ]
  },
  {
   "cell_type": "markdown",
   "metadata": {},
   "source": [
    "Now, we can mesure the fitnees of our model. In this example the accuracy is high, 0.7, this means that it has predicted correctly a 70% of the results."
   ]
  },
  {
   "cell_type": "code",
   "execution_count": 19,
   "metadata": {},
   "outputs": [
    {
     "name": "stdout",
     "output_type": "stream",
     "text": [
      "Accuracy: 0.7\n",
      "\n"
     ]
    }
   ],
   "source": [
    "accuracy = accuracy_score(y_test, y_pred)\n",
    "print(f\"Accuracy: {accuracy}\\n\")"
   ]
  },
  {
   "cell_type": "markdown",
   "metadata": {},
   "source": [
    "The confusion matrix is a table where each row represents the instances in an actual class while each column represents the instances in predicted class. The values of the of the matrix are the following ones:\n",
    "\n",
    "True Positive: The values in the diagonal. Instances predicted correctly.\n",
    "\n",
    "False Positive (FP_i,j): The values up the diagonal. Instances from class i that are incorrectly predicted as belonging to class j.\n",
    "\n",
    "False Negative (FN_i,j): The values down the diagonal. Instances from class i that are incorrectly predicted as not belonging to class j.\n",
    "\n",
    "Let's analyse our example. It was given a sample of 10 results. The diagonal of the matrix represents the results predicted correctly of each class in this case, 7 out of 10. Then, it predicted two ties (class X) when the real value was a visitor (class 2) and it predicted one home (class 1) when it was a tie (class X)."
   ]
  },
  {
   "cell_type": "code",
   "execution_count": 20,
   "metadata": {},
   "outputs": [
    {
     "data": {
      "image/png": "[encoded data removed]",
      "text/plain": [
       "<Figure size 800x600 with 2 Axes>"
      ]
     },
     "metadata": {},
     "output_type": "display_data"
    }
   ],
   "source": [
    "confusion_mat = confusion_matrix(y_test, y_pred)\n",
    "# plot the confusion matrix\n",
    "plt.figure(figsize=(8, 6))\n",
    "sns.heatmap(confusion_mat, annot=True, fmt='d', cmap='Greens', \n",
    "            xticklabels=['Class 1', 'Class 2', 'Class X'], \n",
    "            yticklabels=['Class 1', 'Class 2', 'Class X'])\n",
    "plt.xlabel('Predictions')\n",
    "plt.ylabel('Actual values')\n",
    "plt.title('Confusion matrix')\n",
    "plt.show()"
   ]
  },
  {
   "cell_type": "markdown",
   "metadata": {},
   "source": [
    "The classification report is a tool that provides detailed metrics on the performance of a classification model. It is commonly used for multiclass classification problems (our case). We coul calculate each metric using the results of the confusion matrix. \n",
    "\n",
    "Precision: Is calculated as the number of true positives divided by the sum of true positives and false positives.\n",
    "\n",
    "Recall: Is calculated as the number of true positives divided by the sum of true positives and false negatives.\n",
    "\n",
    "Support: Is the total number of instances for each class in the test dataset.\n",
    "\n",
    "Macro average: Is the mean value of each metric.\n",
    "\n",
    "Weigthed average: Is calculated as the sum of the precision, of each class, multiply by their support and then divided by the number of instances."
   ]
  },
  {
   "cell_type": "code",
   "execution_count": 21,
   "metadata": {},
   "outputs": [
    {
     "name": "stdout",
     "output_type": "stream",
     "text": [
      "Classification Report:\n",
      "              precision    recall  f1-score   support\n",
      "\n",
      "           1       0.83      1.00      0.91         5\n",
      "           2       1.00      0.33      0.50         3\n",
      "           X       0.33      0.50      0.40         2\n",
      "\n",
      "    accuracy                           0.70        10\n",
      "   macro avg       0.72      0.61      0.60        10\n",
      "weighted avg       0.78      0.70      0.68        10\n",
      "\n",
      "\n"
     ]
    }
   ],
   "source": [
    "class_report = classification_report(y_test, y_pred)\n",
    "print(f\"Classification Report:\\n{class_report}\\n\")"
   ]
  },
  {
   "cell_type": "markdown",
   "metadata": {},
   "source": [
    "And finally, the matrix of the Predictions probability. It is of dimension (number of classes X total number of instances). Each row represent  the probability of the instance belonging to a specific class. The one with the higher probability is the predicted. For example, in our table, we observe that is going to predict (1) for the first instances, (X) for the third and (2) for the fifth one."
   ]
  },
  {
   "cell_type": "code",
   "execution_count": 22,
   "metadata": {},
   "outputs": [
    {
     "name": "stdout",
     "output_type": "stream",
     "text": [
      "Predictions probability:\n",
      "[[7.94381893e-01 2.23684439e-02 1.83249663e-01]\n",
      " [9.82760321e-01 7.10096634e-04 1.65295825e-02]\n",
      " [8.00134536e-03 4.28970067e-01 5.63028587e-01]\n",
      " [6.78587707e-01 5.90836634e-02 2.62328629e-01]\n",
      " [3.09404856e-02 4.62822806e-01 5.06236708e-01]\n",
      " [3.62901015e-02 4.98741453e-01 4.64968446e-01]\n",
      " [9.81412868e-01 1.78946077e-03 1.67976716e-02]\n",
      " [1.38596055e-02 2.58456217e-01 7.27684178e-01]\n",
      " [7.24567082e-01 4.61110123e-02 2.29321906e-01]\n",
      " [5.51028474e-01 2.25380083e-02 4.26433518e-01]]\n",
      "\n"
     ]
    }
   ],
   "source": [
    "predictions = rf_model.predict_proba(X_test)\n",
    "print(f\"Predictions probability:\\n{predictions}\\n\")"
   ]
  },
  {
   "cell_type": "markdown",
   "metadata": {},
   "source": [
    "# Total Accuracy"
   ]
  },
  {
   "cell_type": "markdown",
   "metadata": {},
   "source": [
    "In this last section, we are going to repeat the model above, but we will train all the seasons and predict all the results to estimate how it works in global. However, it is not going to be a precise analysis since the data to be predicted is going to be train before. "
   ]
  },
  {
   "cell_type": "code",
   "execution_count": 23,
   "metadata": {},
   "outputs": [],
   "source": [
    "seasons2 = \"all\""
   ]
  },
  {
   "cell_type": "code",
   "execution_count": 24,
   "metadata": {},
   "outputs": [],
   "source": [
    "seasons2 = parse_seasons(seasons2)\n",
    "training_data2 = df_train(seasons2)\n",
    "X_train2 = training_data2[features]\n",
    "y_train2 = training_data2[target]"
   ]
  },
  {
   "cell_type": "markdown",
   "metadata": {},
   "source": [
    "After several testing, we obtain that the best parameters to the RandomForestClassifier when we train all the seasons are:\n",
    "\n",
    "{max_depth=15, min_samples_leaf=2, min_samples_split=5, n_estimators=150}\n",
    "\n",
    "So, instead of using the GrigSearchCV function, we are going to set directly the parameters. In that way, we have reduce considerably the time of execution, from 8 minutes to 5 seconds.\n",
    "\n",
    "On the other hand, we will the use GrigSearchCV function when the train is not of all seasons, to obtain more accurate predictions. We have selected the parameters of the paragram_grid to be similar to the ones we have obtain after training all seasons."
   ]
  },
  {
   "cell_type": "code",
   "execution_count": 25,
   "metadata": {},
   "outputs": [
    {
     "data": {
      "text/html": [
       "<style>#sk-container-id-2 {color: black;}#sk-container-id-2 pre{padding: 0;}#sk-container-id-2 div.sk-toggleable {background-color: white;}#sk-container-id-2 label.sk-toggleable__label {cursor: pointer;display: block;width: 100%;margin-bottom: 0;padding: 0.3em;box-sizing: border-box;text-align: center;}#sk-container-id-2 label.sk-toggleable__label-arrow:before {content: \"▸\";float: left;margin-right: 0.25em;color: #696969;}#sk-container-id-2 label.sk-toggleable__label-arrow:hover:before {color: black;}#sk-container-id-2 div.sk-estimator:hover label.sk-toggleable__label-arrow:before {color: black;}#sk-container-id-2 div.sk-toggleable__content {max-height: 0;max-width: 0;overflow: hidden;text-align: left;background-color: #f0f8ff;}#sk-container-id-2 div.sk-toggleable__content pre {margin: 0.2em;color: black;border-radius: 0.25em;background-color: #f0f8ff;}#sk-container-id-2 input.sk-toggleable__control:checked~div.sk-toggleable__content {max-height: 200px;max-width: 100%;overflow: auto;}#sk-container-id-2 input.sk-toggleable__control:checked~label.sk-toggleable__label-arrow:before {content: \"▾\";}#sk-container-id-2 div.sk-estimator input.sk-toggleable__control:checked~label.sk-toggleable__label {background-color: #d4ebff;}#sk-container-id-2 div.sk-label input.sk-toggleable__control:checked~label.sk-toggleable__label {background-color: #d4ebff;}#sk-container-id-2 input.sk-hidden--visually {border: 0;clip: rect(1px 1px 1px 1px);clip: rect(1px, 1px, 1px, 1px);height: 1px;margin: -1px;overflow: hidden;padding: 0;position: absolute;width: 1px;}#sk-container-id-2 div.sk-estimator {font-family: monospace;background-color: #f0f8ff;border: 1px dotted black;border-radius: 0.25em;box-sizing: border-box;margin-bottom: 0.5em;}#sk-container-id-2 div.sk-estimator:hover {background-color: #d4ebff;}#sk-container-id-2 div.sk-parallel-item::after {content: \"\";width: 100%;border-bottom: 1px solid gray;flex-grow: 1;}#sk-container-id-2 div.sk-label:hover label.sk-toggleable__label {background-color: #d4ebff;}#sk-container-id-2 div.sk-serial::before {content: \"\";position: absolute;border-left: 1px solid gray;box-sizing: border-box;top: 0;bottom: 0;left: 50%;z-index: 0;}#sk-container-id-2 div.sk-serial {display: flex;flex-direction: column;align-items: center;background-color: white;padding-right: 0.2em;padding-left: 0.2em;position: relative;}#sk-container-id-2 div.sk-item {position: relative;z-index: 1;}#sk-container-id-2 div.sk-parallel {display: flex;align-items: stretch;justify-content: center;background-color: white;position: relative;}#sk-container-id-2 div.sk-item::before, #sk-container-id-2 div.sk-parallel-item::before {content: \"\";position: absolute;border-left: 1px solid gray;box-sizing: border-box;top: 0;bottom: 0;left: 50%;z-index: -1;}#sk-container-id-2 div.sk-parallel-item {display: flex;flex-direction: column;z-index: 1;position: relative;background-color: white;}#sk-container-id-2 div.sk-parallel-item:first-child::after {align-self: flex-end;width: 50%;}#sk-container-id-2 div.sk-parallel-item:last-child::after {align-self: flex-start;width: 50%;}#sk-container-id-2 div.sk-parallel-item:only-child::after {width: 0;}#sk-container-id-2 div.sk-dashed-wrapped {border: 1px dashed gray;margin: 0 0.4em 0.5em 0.4em;box-sizing: border-box;padding-bottom: 0.4em;background-color: white;}#sk-container-id-2 div.sk-label label {font-family: monospace;font-weight: bold;display: inline-block;line-height: 1.2em;}#sk-container-id-2 div.sk-label-container {text-align: center;}#sk-container-id-2 div.sk-container {/* jupyter's `normalize.less` sets `[hidden] { display: none; }` but bootstrap.min.css set `[hidden] { display: none !important; }` so we also need the `!important` here to be able to override the default hidden behavior on the sphinx rendered scikit-learn.org. See: https://github.com/scikit-learn/scikit-learn/issues/21755 */display: inline-block !important;position: relative;}#sk-container-id-2 div.sk-text-repr-fallback {display: none;}</style><div id=\"sk-container-id-2\" class=\"sk-top-container\"><div class=\"sk-text-repr-fallback\"><pre>RandomForestClassifier(max_depth=15, min_samples_leaf=2, min_samples_split=5,\n",
       "                       n_estimators=150)</pre><b>In a Jupyter environment, please rerun this cell to show the HTML representation or trust the notebook. <br />On GitHub, the HTML representation is unable to render, please try loading this page with nbviewer.org.</b></div><div class=\"sk-container\" hidden><div class=\"sk-item\"><div class=\"sk-estimator sk-toggleable\"><input class=\"sk-toggleable__control sk-hidden--visually\" id=\"sk-estimator-id-2\" type=\"checkbox\" checked><label for=\"sk-estimator-id-2\" class=\"sk-toggleable__label sk-toggleable__label-arrow\">RandomForestClassifier</label><div class=\"sk-toggleable__content\"><pre>RandomForestClassifier(max_depth=15, min_samples_leaf=2, min_samples_split=5,\n",
       "                       n_estimators=150)</pre></div></div></div></div></div>"
      ],
      "text/plain": [
       "RandomForestClassifier(max_depth=15, min_samples_leaf=2, min_samples_split=5,\n",
       "                       n_estimators=150)"
      ]
     },
     "execution_count": 25,
     "metadata": {},
     "output_type": "execute_result"
    }
   ],
   "source": [
    "rf_model2 = RandomForestClassifier(max_depth=15, min_samples_leaf=2, min_samples_split=5, n_estimators=150)\n",
    "rf_model2.fit(X_train2, y_train2)"
   ]
  },
  {
   "cell_type": "code",
   "execution_count": 26,
   "metadata": {},
   "outputs": [
    {
     "data": {
      "text/plain": [
       "array(['2', '1', '1', ..., 'X', 'X', '2'], dtype=object)"
      ]
     },
     "execution_count": 26,
     "metadata": {},
     "output_type": "execute_result"
    }
   ],
   "source": [
    "test_data2 = df_train(seasons2)\n",
    "X_test2 = test_data2[features]\n",
    "y_test2 = test_data2[target]\n",
    "y_pred2 = rf_model2.predict(X_test2)\n",
    "y_pred2"
   ]
  },
  {
   "cell_type": "code",
   "execution_count": 27,
   "metadata": {},
   "outputs": [
    {
     "name": "stdout",
     "output_type": "stream",
     "text": [
      "Accuracy: 0.7418125\n",
      "\n"
     ]
    }
   ],
   "source": [
    "accuracy2 = accuracy_score(y_test2, y_pred2)\n",
    "print(f\"Accuracy: {accuracy2}\\n\")"
   ]
  },
  {
   "cell_type": "markdown",
   "metadata": {},
   "source": [
    "We observe in the confusion matrix that our model is more likely to predict (1). Actually, when the real result is a tie (X) it tends to predict (1). The predictions of the classes (2) and (X) are more accurate. In the Classification report table, we observe that the tie class (X) is the one with more precision, nearly a 90% of times it predict a tie is correct."
   ]
  },
  {
   "cell_type": "code",
   "execution_count": 28,
   "metadata": {},
   "outputs": [
    {
     "data": {
      "image/png": "[encoded data removed]",
      "text/plain": [
       "<Figure size 800x600 with 2 Axes>"
      ]
     },
     "metadata": {},
     "output_type": "display_data"
    }
   ],
   "source": [
    "confusion_mat2 = confusion_matrix(y_test2, y_pred2)\n",
    "confusion_mat = confusion_matrix(y_test, y_pred)\n",
    "# plot the confusion matrix\n",
    "plt.figure(figsize=(8, 6))\n",
    "sns.heatmap(confusion_mat2, annot=True, fmt='d', cmap='Greens', \n",
    "            xticklabels=['Class 1', 'Class 2', 'Class X'], \n",
    "            yticklabels=['Class 1', 'Class 2', 'Class X'])\n",
    "plt.xlabel('Predictions')\n",
    "plt.ylabel('Actual values')\n",
    "plt.title('Confusion matrix')\n",
    "plt.show()"
   ]
  },
  {
   "cell_type": "code",
   "execution_count": 29,
   "metadata": {},
   "outputs": [
    {
     "name": "stdout",
     "output_type": "stream",
     "text": [
      "Classification Report:\n",
      "              precision    recall  f1-score   support\n",
      "\n",
      "           1       0.71      0.96      0.81     25317\n",
      "           2       0.78      0.57      0.66     10403\n",
      "           X       0.89      0.44      0.59     12280\n",
      "\n",
      "    accuracy                           0.74     48000\n",
      "   macro avg       0.79      0.66      0.69     48000\n",
      "weighted avg       0.77      0.74      0.72     48000\n",
      "\n",
      "\n"
     ]
    }
   ],
   "source": [
    "class_report2 = classification_report(y_test2, y_pred2)\n",
    "print(f\"Classification Report:\\n{class_report2}\\n\")"
   ]
  }
 ],
 "metadata": {
  "kernelspec": {
   "display_name": "venv",
   "language": "python",
   "name": "python3"
  },
  "language_info": {
   "codemirror_mode": {
    "name": "ipython",
    "version": 3
   },
   "file_extension": ".py",
   "mimetype": "text/x-python",
   "name": "python",
   "nbconvert_exporter": "python",
   "pygments_lexer": "ipython3",
   "version": "3.10.12"
  }
 },
 "nbformat": 4,
 "nbformat_minor": 2
}
